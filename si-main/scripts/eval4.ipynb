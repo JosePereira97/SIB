{
 "cells": [
  {
   "cell_type": "markdown",
   "id": "f07b8dde",
   "metadata": {},
   "source": [
    "# Neural Networks"
   ]
  },
  {
   "cell_type": "markdown",
   "id": "423f292f",
   "metadata": {},
   "source": [
    "## XNOR"
   ]
  },
  {
   "cell_type": "code",
   "execution_count": 1,
   "id": "698c23e4",
   "metadata": {},
   "outputs": [],
   "source": [
    "import numpy as np\n",
    "from si.data import Dataset\n",
    "X = np.array([[0,0], [0,1], [1,0], [1,1]])\n",
    "y = np.array([[1], [0], [0], [1]])\n",
    "dataset = Dataset(X,y,['X1','X2'],'X1 XNOR X2')"
   ]
  },
  {
   "cell_type": "code",
   "execution_count": 2,
   "id": "5539ea95",
   "metadata": {},
   "outputs": [
    {
     "data": {
      "text/plain": "   X1  X2  X1 XNOR X2\n0   0   0           1\n1   0   1           0\n2   1   0           0\n3   1   1           1",
      "text/html": "<div>\n<style scoped>\n    .dataframe tbody tr th:only-of-type {\n        vertical-align: middle;\n    }\n\n    .dataframe tbody tr th {\n        vertical-align: top;\n    }\n\n    .dataframe thead th {\n        text-align: right;\n    }\n</style>\n<table border=\"1\" class=\"dataframe\">\n  <thead>\n    <tr style=\"text-align: right;\">\n      <th></th>\n      <th>X1</th>\n      <th>X2</th>\n      <th>X1 XNOR X2</th>\n    </tr>\n  </thead>\n  <tbody>\n    <tr>\n      <th>0</th>\n      <td>0</td>\n      <td>0</td>\n      <td>1</td>\n    </tr>\n    <tr>\n      <th>1</th>\n      <td>0</td>\n      <td>1</td>\n      <td>0</td>\n    </tr>\n    <tr>\n      <th>2</th>\n      <td>1</td>\n      <td>0</td>\n      <td>0</td>\n    </tr>\n    <tr>\n      <th>3</th>\n      <td>1</td>\n      <td>1</td>\n      <td>1</td>\n    </tr>\n  </tbody>\n</table>\n</div>"
     },
     "execution_count": 2,
     "metadata": {},
     "output_type": "execute_result"
    }
   ],
   "source": [
    "dataset.toDataframe()"
   ]
  },
  {
   "cell_type": "code",
   "execution_count": 3,
   "id": "049da626",
   "metadata": {},
   "outputs": [],
   "source": [
    "from si.supervised import NN, Dense, Activation\n",
    "from si.util import Sigmoid, cross_entropy, cross_entropy_prime"
   ]
  },
  {
   "cell_type": "code",
   "execution_count": 4,
   "id": "34441798",
   "metadata": {},
   "outputs": [],
   "source": [
    "# layer1 weights\n",
    "w1 = np.array([[20,-20],[20,-20]])\n",
    "b1 = np.array([[-30, 10]])\n",
    "l1 = Dense(2, 2)\n",
    "l1.setWeights(w1,b1)"
   ]
  },
  {
   "cell_type": "code",
   "execution_count": 5,
   "id": "8149016a",
   "metadata": {},
   "outputs": [],
   "source": [
    "# layer2 weights\n",
    "w2 = np.array([[20],[20]])\n",
    "b2 = np.array([[-10]])\n",
    "l2 = Dense(2, 1)\n",
    "l2.setWeights(w2,b2)"
   ]
  },
  {
   "cell_type": "code",
   "execution_count": 6,
   "id": "3e69a316",
   "metadata": {},
   "outputs": [],
   "source": [
    "# Build the NN\n",
    "nn = NN()\n",
    "nn.add(l1)\n",
    "nn.add(Activation(Sigmoid()))\n",
    "nn.add(l2)\n",
    "nn.add(Activation(Sigmoid()))\n",
    "# pass the info that the model is fitted\n",
    "nn.is_fitted = True"
   ]
  },
  {
   "cell_type": "code",
   "execution_count": 7,
   "id": "b8f8ed58",
   "metadata": {},
   "outputs": [
    {
     "data": {
      "text/plain": "array([[1.],\n       [0.],\n       [0.],\n       [1.]])"
     },
     "execution_count": 7,
     "metadata": {},
     "output_type": "execute_result"
    }
   ],
   "source": [
    "np.round(nn.predict(dataset.X))"
   ]
  },
  {
   "cell_type": "code",
   "execution_count": 8,
   "id": "a0bec0a5",
   "metadata": {},
   "outputs": [
    {
     "data": {
      "text/plain": "2.066588540474394e-09"
     },
     "execution_count": 8,
     "metadata": {},
     "output_type": "execute_result"
    }
   ],
   "source": [
    "nn.cost(dataset.X,dataset.y)"
   ]
  },
  {
   "cell_type": "markdown",
   "id": "a21d4930",
   "metadata": {},
   "source": [
    "## Train the model using backpropagation"
   ]
  },
  {
   "cell_type": "code",
   "execution_count": 9,
   "id": "187d0e28",
   "metadata": {},
   "outputs": [],
   "source": [
    "nn2 = NN(epochs=100000,lr=0.1, verbose=False)\n",
    "nn2.add(Dense(2, 2))\n",
    "nn2.add(Activation(Sigmoid()))\n",
    "nn2.add(Dense(2, 1))\n",
    "nn2.add(Activation(Sigmoid()))\n",
    "# use cross entropy instead of MSE as loss function\n",
    "# nn2.use(cross_entropy,cross_entropy_prime)"
   ]
  },
  {
   "cell_type": "code",
   "execution_count": 10,
   "id": "8dc1623c",
   "metadata": {},
   "outputs": [
    {
     "name": "stdout",
     "output_type": "stream",
     "text": [
      "epoch 100000/100000, error= 0.24999863695530225\roch 44510/100000, error= 0.2500003522006798epoch 49424/100000, error= 0.25000024681762245epoch 50371/100000, error= 0.25000022760902385epoch 54175/100000, error= 0.2500001524322421epoch 55140/100000, error= 0.2500001336658391epoch 57097/100000, error= 0.2500000957220381epoch 58040/100000, error= 0.2500000774261341epoch 59869/100000, error= 0.2500000417721934epoch 60626/100000, error= 0.2500000269100115epoch 65356/100000, error= 0.2499999315539862epoch 68058/100000, error= 0.24999987419909467epoch 68974/100000, error= 0.24999985411331188epoch 70646/100000, error= 0.24999981646549638epoch 74394/100000, error= 0.24999972655626432epoch 80138/100000, error= 0.24999956908426024epoch 81991/100000, error= 0.24999951167835036epoch 83706/100000, error= 0.24999945501580811epoch 84805/100000, error= 0.24999941672271103epoch 85688/100000, error= 0.2499993847361016epoch 87403/100000, error= 0.24999931923093816epoch 89231/100000, error= 0.24999924396813913epoch 91158/100000, error= 0.24999915772303627epoch 92012/100000, error= 0.2499991169753395epoch 97969/100000, error= 0.24999877905676918epoch 98900/100000, error= 0.24999871593286788"
     ]
    }
   ],
   "source": [
    "nn2.fit(dataset)\n",
    "nn2.is_fitted = True #professor ele realizava o fit, mad não mudava o is_fitted para true, dai ter forçado aqui"
   ]
  },
  {
   "cell_type": "code",
   "execution_count": 11,
   "id": "77ecee76",
   "metadata": {},
   "outputs": [
    {
     "data": {
      "text/plain": "array([[0.],\n       [1.],\n       [0.],\n       [1.]])"
     },
     "execution_count": 11,
     "metadata": {},
     "output_type": "execute_result"
    }
   ],
   "source": [
    "np.round(nn2.predict(X))"
   ]
  },
  {
   "cell_type": "code",
   "execution_count": 12,
   "id": "9c39308d",
   "metadata": {},
   "outputs": [
    {
     "data": {
      "text/plain": "<Figure size 432x288 with 1 Axes>",
      "image/png": "[encoded data removed]"
     },
     "metadata": {
      "needs_background": "light"
     },
     "output_type": "display_data"
    }
   ],
   "source": [
    "import matplotlib.pyplot as plt\n",
    "%matplotlib inline\n",
    "plt.plot(list(nn2.history.keys()), list(nn2.history.values()), '-', color='red')\n",
    "plt.title('Loss')\n",
    "plt.show()"
   ]
  },
  {
   "cell_type": "code",
   "execution_count": 13,
   "id": "e0839b61",
   "metadata": {},
   "outputs": [
    {
     "data": {
      "text/plain": "array([[0.],\n       [1.],\n       [0.],\n       [1.]])"
     },
     "execution_count": 13,
     "metadata": {},
     "output_type": "execute_result"
    }
   ],
   "source": [
    "np.round(nn2.predict(dataset.X))"
   ]
  },
  {
   "cell_type": "code",
   "execution_count": 14,
   "id": "9c4cc530",
   "metadata": {},
   "outputs": [
    {
     "data": {
      "text/plain": "0.2499986368812178"
     },
     "execution_count": 14,
     "metadata": {},
     "output_type": "execute_result"
    }
   ],
   "source": [
    "nn2.cost(dataset.X,dataset.y)"
   ]
  },
  {
   "cell_type": "code",
   "execution_count": 14,
   "id": "1045d635",
   "metadata": {},
   "outputs": [],
   "source": []
  }
 ],
 "metadata": {
  "interpreter": {
   "hash": "84e5a2fd7e25c8bcf38508d69068628463a9d9ea1454c39f49bb2bfb5f0bb0bf"
  },
  "kernelspec": {
   "display_name": "Python 3",
   "language": "python",
   "name": "python3"
  },
  "language_info": {
   "codemirror_mode": {
    "name": "ipython",
    "version": 3
   },
   "file_extension": ".py",
   "mimetype": "text/x-python",
   "name": "python",
   "nbconvert_exporter": "python",
   "pygments_lexer": "ipython3",
   "version": "3.8.8"
  }
 },
 "nbformat": 4,
 "nbformat_minor": 5
}